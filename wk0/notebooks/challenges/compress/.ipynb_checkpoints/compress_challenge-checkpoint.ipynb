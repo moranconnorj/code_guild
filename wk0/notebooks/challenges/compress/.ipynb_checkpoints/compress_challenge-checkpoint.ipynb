{
 "cells": [
  {
   "cell_type": "markdown",
   "metadata": {},
   "source": [
    "<small><i>This notebook was prepared by [Donne Martin](http://donnemartin.com). Source and license info is on [GitHub](https://github.com/donnemartin/interactive-coding-challenges).</i></small>"
   ]
  },
  {
   "cell_type": "markdown",
   "metadata": {},
   "source": [
    "# Challenge Notebook"
   ]
  },
  {
   "cell_type": "markdown",
   "metadata": {},
   "source": [
    "## Problem: Compress a string such that 'AAABCCDDDD' becomes 'A3B1C2D4'.  Only compress the string if it saves space.\n",
    "\n",
    "* [Constraints](#Constraints)\n",
    "* [Test Cases](#Test-Cases)\n",
    "* [Algorithm](#Algorithm)\n",
    "* [Code](#Code)\n",
    "* [Unit Test](#Unit-Test)\n",
    "* [Solution Notebook](#Solution-Notebook)"
   ]
  },
  {
   "cell_type": "markdown",
   "metadata": {},
   "source": [
    "## Constraints\n",
    "\n",
    "* Can we assume the string is ASCII?\n",
    "    * Yes\n",
    "    * Note: Unicode strings could require special handling depending on your language\n",
    "* Can you use additional data structures?  \n",
    "    * Yes\n",
    "* Is this case sensitive?\n",
    "    * Yes"
   ]
  },
  {
   "cell_type": "markdown",
   "metadata": {},
   "source": [
    "## Test Cases\n",
    "\n",
    "* None -> None\n",
    "* '' -> ''\n",
    "* 'AABBCC' -> 'AABBCC'\n",
    "* 'AAABCCDDDD' -> 'A3B1C2D4'"
   ]
  },
  {
   "cell_type": "markdown",
   "metadata": {},
   "source": [
    "## Algorithm\n",
    "\n",
    "Refer to the [Solution Notebook](http://nbviewer.ipython.org/github/donnemartin/interactive-coding-challenges/blob/master/arrays_strings/compress/compress_solution.ipynb).  If you are stuck and need a hint, the solution notebook's algorithm discussion might be a good place to start."
   ]
  },
  {
   "cell_type": "markdown",
   "metadata": {},
   "source": [
    "## Code"
   ]
  },
  {
   "cell_type": "code",
   "execution_count": 151,
   "metadata": {
    "collapsed": false
   },
   "outputs": [
    {
     "data": {
      "text/plain": [
       "'AAABBCCDDEEEF'"
      ]
     },
     "execution_count": 151,
     "metadata": {},
     "output_type": "execute_result"
    }
   ],
   "source": [
    "compressed = []\n",
    "\n",
    "def compre_string(string):\n",
    "    if string: == None or len(string) == 0:\n",
    "        return string\n",
    "    for x in string:\n",
    "        pair = []\n",
    "        if string.count(x) > 1:\n",
    "            pair.append(x)\n",
    "            pair.append(str(string.count(x)))\n",
    "            if pair[0] in \"\".join(compressed):\n",
    "                pass\n",
    "            else: \n",
    "                compressed.append(\"\".join(pair))\n",
    "        else:\n",
    "            pair.append(x)\n",
    "            pair.append(str(string.count(x)))\n",
    "            if pair[0] in \"\".join(compressed):\n",
    "                pass\n",
    "            else: \n",
    "                compressed.append(\"\".join(pair))\n",
    "    if len(\"\".join(compressed)) < len(string):\n",
    "        return \"\".join(compressed)\n",
    "    else:\n",
    "        return string\n",
    "compre_string('AAABBCCDDEEEF')\n"
   ]
  },
  {
   "cell_type": "code",
   "execution_count": 4,
   "metadata": {
    "collapsed": false
   },
   "outputs": [],
   "source": [
    "def compress_string(string):\n",
    "    \"\"\"\n",
    "    Returns a compressed string\n",
    "    \n",
    "    takes a string and checks if it can be compressed. Returns compressed string if possible,\n",
    "    otherwise returns input string\n",
    "    \n",
    "    Parameters\n",
    "    ------------\n",
    "    Input: \n",
    "    string: string\n",
    "    \n",
    "    Output:\n",
    "    compressed: string\n",
    "    a string of compressed characters\n",
    "    \n",
    "    string: string\n",
    "    the original input string if compression isnt possible\n",
    "    \n",
    "    \"\"\"\n",
    "    if string: \n",
    "        compressed = []\n",
    "        num = 0\n",
    "        prev = string[0]\n",
    "        for x in string:\n",
    "            if x == prev:\n",
    "                num += 1 # adds 1 to count if character matches previous iteration\n",
    "            else: \n",
    "                compressed.append(prev) # appends new character to list\n",
    "                compressed.append(str(num)) # appends a count of 1 next to newly added character\n",
    "                num = 1\n",
    "                prev = x\n",
    "        compressed.append(x)\n",
    "        compressed.append(str(num))\n",
    "        if len(\"\".join(compressed)) < len(string):\n",
    "            return \"\".join(compressed)\n",
    "        else:\n",
    "            return string\n",
    "    else:\n",
    "        return string\n"
   ]
  },
  {
   "cell_type": "markdown",
   "metadata": {},
   "source": [
    "## Unit Test"
   ]
  },
  {
   "cell_type": "markdown",
   "metadata": {},
   "source": [
    "\n",
    "\n",
    "**The following unit test is expected to fail until you solve the challenge.**"
   ]
  },
  {
   "cell_type": "code",
   "execution_count": 5,
   "metadata": {
    "collapsed": false
   },
   "outputs": [
    {
     "name": "stdout",
     "output_type": "stream",
     "text": [
      "Success: test_compress\n"
     ]
    }
   ],
   "source": [
    "# %load test_compress.py\n",
    "from nose.tools import assert_equal\n",
    "\n",
    "\n",
    "class TestCompress(object):\n",
    "\n",
    "    def test_compress(self, func):\n",
    "        assert_equal(func(None), None)\n",
    "        assert_equal(func(''), '')\n",
    "        assert_equal(func('AABBCC'), 'AABBCC')\n",
    "        assert_equal(func('AAABCCDDDD'), 'A3B1C2D4')\n",
    "        print('Success: test_compress')\n",
    "\n",
    "\n",
    "def main():\n",
    "    test = TestCompress()\n",
    "    test.test_compress(compress_string)\n",
    "\n",
    "\n",
    "if __name__ == '__main__':\n",
    "    main()"
   ]
  },
  {
   "cell_type": "markdown",
   "metadata": {},
   "source": [
    "## Solution Notebook\n",
    "\n",
    "Review the [Solution Notebook](http://nbviewer.ipython.org/github/donnemartin/interactive-coding-challenges/blob/master/arrays_strings/compress/compress_solution.ipynb) for a discussion on algorithms and code solutions."
   ]
  }
 ],
 "metadata": {
  "kernelspec": {
   "display_name": "Python 3",
   "language": "python",
   "name": "python3"
  },
  "language_info": {
   "codemirror_mode": {
    "name": "ipython",
    "version": 3
   },
   "file_extension": ".py",
   "mimetype": "text/x-python",
   "name": "python",
   "nbconvert_exporter": "python",
   "pygments_lexer": "ipython3",
   "version": "3.4.3"
  }
 },
 "nbformat": 4,
 "nbformat_minor": 0
}
