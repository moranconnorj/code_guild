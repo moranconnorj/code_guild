{
 "cells": [
  {
   "cell_type": "markdown",
   "metadata": {},
   "source": [
    "# wk0.1 A curious case of conditionals\n",
    "\n",
    "## Intro to git and github\n",
    "\n",
    "Read these:\n",
    "* https://help.github.com/articles/set-up-git/\n",
    "* https://www.atlassian.com/git/tutorials/syncing/git-push\n",
    "\n",
    "## A few challenges\n",
    "\n",
    "Complete *reverse_string* and *primes* challenges in challenge folder."
   ]
  },
  {
   "cell_type": "markdown",
   "metadata": {},
   "source": [
    "## Reviewing some ideas from yesterday"
   ]
  },
  {
   "cell_type": "raw",
   "metadata": {},
   "source": [
    "# Example from yesterday\n",
    "\n",
    "def t(num):\n",
    "    if 10 <= num < 15:\n",
    "        print(\"hot\")\n",
    "    elif num > 15:\n",
    "        print(\"hotter\")\n",
    "    else:\n",
    "        print(\"cold\")\n",
    "\n",
    "# What does this function do?\n",
    "for i in range(4):\n",
    "    for j in range(10):\n",
    "        if j % 3 == 0:\n",
    "            continue\n",
    "        if j > 7 and j % 2 == 0:\n",
    "            break\n",
    "        else:\n",
    "            print('i equals', i)\n",
    "            print('j equals', j)\n",
    "            print('------------')"
   ]
  },
  {
   "cell_type": "code",
   "execution_count": 8,
   "metadata": {
    "collapsed": false
   },
   "outputs": [
    {
     "name": "stdout",
     "output_type": "stream",
     "text": [
      "cold\n"
     ]
    }
   ],
   "source": [
    "def t(num):\n",
    "    if 10<= num < 15:\n",
    "        print(\"hot\")\n",
    "    elif num > 15:\n",
    "        print(\"hotter\")\n",
    "    else:\n",
    "        print(\"cold\")\n",
    "t(5)\n"
   ]
  },
  {
   "cell_type": "code",
   "execution_count": 12,
   "metadata": {
    "collapsed": false
   },
   "outputs": [
    {
     "ename": "SyntaxError",
     "evalue": "invalid syntax (<ipython-input-12-3b39866f40bc>, line 1)",
     "output_type": "error",
     "traceback": [
      "\u001b[0;36m  File \u001b[0;32m\"<ipython-input-12-3b39866f40bc>\"\u001b[0;36m, line \u001b[0;32m1\u001b[0m\n\u001b[0;31m    i in range(4):\u001b[0m\n\u001b[0m                 ^\u001b[0m\n\u001b[0;31mSyntaxError\u001b[0m\u001b[0;31m:\u001b[0m invalid syntax\n"
     ]
    }
   ],
   "source": [
    "i in range(4):\n",
    "    for j in range(10):\n",
    "        if j % 3 == 0:\n",
    "            continue\n",
    "        if j > 7 and j % 2 == 0:\n",
    "            break\n",
    "        else:\n",
    "            print('i equals', i)\n",
    "            print('j equals', j)\n",
    "            print('-----------')"
   ]
  },
  {
   "cell_type": "code",
   "execution_count": 27,
   "metadata": {
    "collapsed": false
   },
   "outputs": [],
   "source": [
    "a = 1\n",
    "assert a == 1"
   ]
  },
  {
   "cell_type": "markdown",
   "metadata": {},
   "source": [
    "## While Conditional.: return discussion\n",
    "\n",
    "* [Follow up on yesterday's discussion on conditionals](http://www.pythonlearn.com/html-008/cfbook004.html)\n",
    "\n",
    "[more on conditionals](https://docs.python.org/3.5/tutorial/datastructures.html#more-on-conditions):\n",
    "* is and is not\n",
    "  * [difference between is and ==](https://stackoverflow.com/questions/132988/is-there-a-difference-between-and-is-in-python)\n",
    "  \n",
    "Try evaluating each of the lines below in your python REPL. What's going on? \n",
    "  \n",
    "```\n",
    "a = [1, 2, 3]\n",
    "b = a\n",
    "b is a\n",
    "b == a\n",
    "b = a[:]\n",
    "b is a\n",
    "b == a\n",
    "```\n",
    "If you have a hypothesis about the difference between is and ==, devise some tests you could try out to disprove your hypothesis. Implement them. Were you correct?\n",
    "\n",
    "* in and not in\n",
    "* and, or\n",
    "* comparison priority\n",
    ">  not has the highest priority and or the lowest, so that A and not B or C is equivalent to (A and (not B)) or C.\n",
    "\n",
    "* Short circuit operators\n",
    "\n"
   ]
  },
  {
   "cell_type": "markdown",
   "metadata": {},
   "source": [
    "# More string and list practice\n",
    "\n",
    "* Add elements from a list L to the end of another list at least three different ways."
   ]
  },
  {
   "cell_type": "code",
   "execution_count": null,
   "metadata": {
    "collapsed": false
   },
   "outputs": [],
   "source": [
    "l = [1, 2, 3]\n",
    "b = [4, 5, 6]\n",
    "\n",
    "l+b\n",
    "l[:]+b[:2]\n",
    "l[::-1]+b[1:]\n",
    "\n",
    "l.extend(b)\n",
    "\n",
    "l"
   ]
  },
  {
   "cell_type": "markdown",
   "metadata": {},
   "source": [
    "* Insert elements into a list at least two different ways."
   ]
  },
  {
   "cell_type": "code",
   "execution_count": 51,
   "metadata": {
    "collapsed": false
   },
   "outputs": [
    {
     "data": {
      "text/plain": [
       "[3, 2, 2]"
      ]
     },
     "execution_count": 51,
     "metadata": {},
     "output_type": "execute_result"
    }
   ],
   "source": [
    "l = [1, 2, 3]\n",
    "b = [4, 5, 6]\n",
    "\n",
    "b[2] = 3\n",
    "b[::-1] = l\n",
    "b[2]=l[1]\n",
    "b"
   ]
  },
  {
   "cell_type": "markdown",
   "metadata": {},
   "source": [
    "* Insert an element into a string (this might take more than one step...)."
   ]
  },
  {
   "cell_type": "code",
   "execution_count": 8,
   "metadata": {
    "collapsed": false
   },
   "outputs": [
    {
     "data": {
      "text/plain": [
       "'Hellllllo World!'"
      ]
     },
     "execution_count": 8,
     "metadata": {},
     "output_type": "execute_result"
    }
   ],
   "source": [
    "l = [1, 2, 3]\n",
    "str2 = 'World!'\n",
    "\n",
    "str2+str(l[2])\n",
    "\n",
    "str2 = list(str2)\n",
    "str2.insert(3, 'HI')\n",
    "str2 = ''.join(str2)\n",
    "str2\n",
    "\n",
    "str1 = 'Hello World!'\n",
    "str1 = str1[:3] + 'lllll' + str1[4:]\n",
    "str1"
   ]
  },
  {
   "cell_type": "markdown",
   "metadata": {},
   "source": [
    "* Remove an item from a list by value."
   ]
  },
  {
   "cell_type": "code",
   "execution_count": 12,
   "metadata": {
    "collapsed": false
   },
   "outputs": [
    {
     "data": {
      "text/plain": [
       "[1, 3]"
      ]
     },
     "execution_count": 12,
     "metadata": {},
     "output_type": "execute_result"
    }
   ],
   "source": [
    "l = [1, 2, 3]\n",
    "l.remove(2)\n",
    "l"
   ]
  },
  {
   "cell_type": "markdown",
   "metadata": {},
   "source": [
    "* Remove an item from a list by index."
   ]
  },
  {
   "cell_type": "code",
   "execution_count": 13,
   "metadata": {
    "collapsed": false
   },
   "outputs": [
    {
     "data": {
      "text/plain": [
       "[2, 3]"
      ]
     },
     "execution_count": 13,
     "metadata": {},
     "output_type": "execute_result"
    }
   ],
   "source": [
    "l = [1, 2, 3]\n",
    "l.pop(0)\n",
    "l"
   ]
  },
  {
   "cell_type": "markdown",
   "metadata": {},
   "source": [
    "* Remove all items from a list two different ways."
   ]
  },
  {
   "cell_type": "code",
   "execution_count": 20,
   "metadata": {
    "collapsed": false
   },
   "outputs": [
    {
     "data": {
      "text/plain": [
       "[]"
      ]
     },
     "execution_count": 20,
     "metadata": {},
     "output_type": "execute_result"
    }
   ],
   "source": [
    "l = [1, 2, 3]\n",
    "del l[:]\n",
    "l.clear()\n",
    "l"
   ]
  },
  {
   "cell_type": "markdown",
   "metadata": {},
   "source": [
    "* Return the index in the list of the first item whose value is x. "
   ]
  },
  {
   "cell_type": "code",
   "execution_count": 23,
   "metadata": {
    "collapsed": false
   },
   "outputs": [
    {
     "data": {
      "text/plain": [
       "1"
      ]
     },
     "execution_count": 23,
     "metadata": {},
     "output_type": "execute_result"
    }
   ],
   "source": [
    "l = [1, 2, 3]\n",
    "l.index(2)\n"
   ]
  },
  {
   "cell_type": "markdown",
   "metadata": {},
   "source": [
    "* Return the number of times x appears in the list."
   ]
  },
  {
   "cell_type": "code",
   "execution_count": 25,
   "metadata": {
    "collapsed": false
   },
   "outputs": [
    {
     "data": {
      "text/plain": [
       "1"
      ]
     },
     "execution_count": 25,
     "metadata": {},
     "output_type": "execute_result"
    }
   ],
   "source": [
    "l.count(1)"
   ]
  },
  {
   "cell_type": "markdown",
   "metadata": {},
   "source": [
    "* Capitalize the first element in a string"
   ]
  },
  {
   "cell_type": "code",
   "execution_count": 35,
   "metadata": {
    "collapsed": false
   },
   "outputs": [
    {
     "data": {
      "text/plain": [
       "'Hello'"
      ]
     },
     "execution_count": 35,
     "metadata": {},
     "output_type": "execute_result"
    }
   ],
   "source": [
    "str1 = 'hello'\n",
    "str1.capitalize()"
   ]
  },
  {
   "cell_type": "markdown",
   "metadata": {},
   "source": [
    "* Capitalize all elements in a string"
   ]
  },
  {
   "cell_type": "code",
   "execution_count": 41,
   "metadata": {
    "collapsed": false
   },
   "outputs": [
    {
     "data": {
      "text/plain": [
       "'HELLO WORLD !'"
      ]
     },
     "execution_count": 41,
     "metadata": {},
     "output_type": "execute_result"
    }
   ],
   "source": [
    "str1.upper()"
   ]
  },
  {
   "cell_type": "markdown",
   "metadata": {},
   "source": [
    "* Strip leading, trailing, and all whitespace (ex. leading: '  asdf  ' --> 'asdf  ', trailing:'  asdf  ' --> '  asdf', all:'   asdf   ' --> 'asdf')."
   ]
  },
  {
   "cell_type": "code",
   "execution_count": 62,
   "metadata": {
    "collapsed": false
   },
   "outputs": [
    {
     "data": {
      "text/plain": [
       "'ello World !'"
      ]
     },
     "execution_count": 62,
     "metadata": {},
     "output_type": "execute_result"
    }
   ],
   "source": [
    "str1 = 'Hello World ! '\n",
    "str1.strip().strip('H').strip('')"
   ]
  },
  {
   "cell_type": "markdown",
   "metadata": {},
   "source": [
    "* Split a sentence into a list of words (no whitespace), how would you split on comma or semi-colon?"
   ]
  },
  {
   "cell_type": "code",
   "execution_count": 82,
   "metadata": {
    "collapsed": false
   },
   "outputs": [
    {
     "data": {
      "text/plain": [
       "['Split', 'a', 'sentence', 'into', 'a', 'list']"
      ]
     },
     "execution_count": 82,
     "metadata": {},
     "output_type": "execute_result"
    }
   ],
   "source": [
    "a = 'Split a sentence into a list'\n",
    "a.split()\n",
    "\n",
    "a = a.replace(' ', ':')\n",
    "\n",
    "a.split(':')\n"
   ]
  },
  {
   "cell_type": "markdown",
   "metadata": {},
   "source": [
    "* Read up on how to format strings"
   ]
  },
  {
   "cell_type": "markdown",
   "metadata": {},
   "source": []
  }
 ],
 "metadata": {
  "kernelspec": {
   "display_name": "Python 3",
   "language": "python",
   "name": "python3"
  },
  "language_info": {
   "codemirror_mode": {
    "name": "ipython",
    "version": 3
   },
   "file_extension": ".py",
   "mimetype": "text/x-python",
   "name": "python",
   "nbconvert_exporter": "python",
   "pygments_lexer": "ipython3",
   "version": "3.4.3"
  }
 },
 "nbformat": 4,
 "nbformat_minor": 0
}
